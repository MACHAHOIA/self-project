{
 "cells": [
  {
   "cell_type": "markdown",
   "id": "eec63345",
   "metadata": {
    "papermill": {
     "duration": 0.006723,
     "end_time": "2022-03-06T15:19:40.697119",
     "exception": false,
     "start_time": "2022-03-06T15:19:40.690396",
     "status": "completed"
    },
    "tags": []
   },
   "source": [
    "Load data & import lib"
   ]
  },
  {
   "cell_type": "code",
   "execution_count": 1,
   "id": "46cf2864",
   "metadata": {
    "execution": {
     "iopub.execute_input": "2022-03-06T15:19:40.729691Z",
     "iopub.status.busy": "2022-03-06T15:19:40.728785Z",
     "iopub.status.idle": "2022-03-06T15:19:51.925256Z",
     "shell.execute_reply": "2022-03-06T15:19:51.925892Z",
     "shell.execute_reply.started": "2022-03-06T14:46:39.865718Z"
    },
    "papermill": {
     "duration": 11.223226,
     "end_time": "2022-03-06T15:19:51.926317",
     "exception": false,
     "start_time": "2022-03-06T15:19:40.703091",
     "status": "completed"
    },
    "tags": []
   },
   "outputs": [
    {
     "name": "stdout",
     "output_type": "stream",
     "text": [
      "Found 5117 files belonging to 2 classes.\n"
     ]
    },
    {
     "name": "stderr",
     "output_type": "stream",
     "text": [
      "2022-03-06 15:19:49.442378: I tensorflow/core/common_runtime/process_util.cc:146] Creating new thread pool with default inter op setting: 2. Tune using inter_op_parallelism_threads for best performance.\n"
     ]
    },
    {
     "name": "stdout",
     "output_type": "stream",
     "text": [
      "Found 5051 files belonging to 2 classes.\n"
     ]
    }
   ],
   "source": [
    "# Imports\n",
    "import os, warnings\n",
    "import matplotlib.pyplot as plt\n",
    "from matplotlib import gridspec\n",
    "\n",
    "import numpy as np\n",
    "import tensorflow as tf\n",
    "from tensorflow.keras.preprocessing import image_dataset_from_directory\n",
    "\n",
    "# Reproducability\n",
    "def set_seed(seed=31415):\n",
    "    np.random.seed(seed)\n",
    "    tf.random.set_seed(seed)\n",
    "    os.environ['PYTHONHASHSEED'] = str(seed)\n",
    "    os.environ['TF_DETERMINISTIC_OPS'] = '1'\n",
    "set_seed(31415)\n",
    "\n",
    "# Set Matplotlib defaults\n",
    "plt.rc('figure', autolayout=True)\n",
    "plt.rc('axes', labelweight='bold', labelsize='large',\n",
    "       titleweight='bold', titlesize=18, titlepad=10)\n",
    "plt.rc('image', cmap='magma')\n",
    "warnings.filterwarnings(\"ignore\") # to clean up output cells\n",
    "\n",
    "\n",
    "# Load training and validation sets\n",
    "ds_train_ = image_dataset_from_directory(\n",
    "    '../input/car-or-truck/train',\n",
    "    labels='inferred',\n",
    "    label_mode='binary',\n",
    "    image_size=[128, 128],\n",
    "    interpolation='nearest',\n",
    "    batch_size=64,\n",
    "    shuffle=True,\n",
    ")\n",
    "ds_valid_ = image_dataset_from_directory(\n",
    "    '../input/car-or-truck/valid',\n",
    "    labels='inferred',\n",
    "    label_mode='binary',\n",
    "    image_size=[128, 128],\n",
    "    interpolation='nearest',\n",
    "    batch_size=64,\n",
    "    shuffle=False,\n",
    ")\n",
    "\n",
    "# Data Pipeline\n",
    "def convert_to_float(image, label):\n",
    "    image = tf.image.convert_image_dtype(image, dtype=tf.float32)\n",
    "    return image, label\n",
    "\n",
    "AUTOTUNE = tf.data.experimental.AUTOTUNE\n",
    "ds_train = (\n",
    "    ds_train_\n",
    "    .map(convert_to_float)\n",
    "    .cache()\n",
    "    .prefetch(buffer_size=AUTOTUNE)\n",
    ")\n",
    "ds_valid = (\n",
    "    ds_valid_\n",
    "    .map(convert_to_float)\n",
    "    .cache()\n",
    "    .prefetch(buffer_size=AUTOTUNE)\n",
    ")\n"
   ]
  },
  {
   "cell_type": "markdown",
   "id": "af4627b5",
   "metadata": {
    "papermill": {
     "duration": 0.006599,
     "end_time": "2022-03-06T15:19:51.940861",
     "exception": false,
     "start_time": "2022-03-06T15:19:51.934262",
     "status": "completed"
    },
    "tags": []
   },
   "source": [
    "build model"
   ]
  },
  {
   "cell_type": "code",
   "execution_count": 2,
   "id": "42d01bd8",
   "metadata": {
    "execution": {
     "iopub.execute_input": "2022-03-06T15:19:51.960102Z",
     "iopub.status.busy": "2022-03-06T15:19:51.959134Z",
     "iopub.status.idle": "2022-03-06T15:19:51.996401Z",
     "shell.execute_reply": "2022-03-06T15:19:51.995752Z",
     "shell.execute_reply.started": "2022-03-06T14:52:20.567062Z"
    },
    "papermill": {
     "duration": 0.047966,
     "end_time": "2022-03-06T15:19:51.996584",
     "exception": false,
     "start_time": "2022-03-06T15:19:51.948618",
     "status": "completed"
    },
    "tags": []
   },
   "outputs": [],
   "source": [
    "from tensorflow import keras\n",
    "from tensorflow.keras import layers\n",
    "\n",
    "model = keras.Sequential([\n",
    "    layers.Conv2D(filters=64, kernel_size=3,activation ='relu'),\n",
    "    layers.MaxPool2D(pool_size=2)\n",
    "])"
   ]
  },
  {
   "cell_type": "code",
   "execution_count": null,
   "id": "cb86c28c",
   "metadata": {
    "papermill": {
     "duration": 0.007072,
     "end_time": "2022-03-06T15:19:52.011232",
     "exception": false,
     "start_time": "2022-03-06T15:19:52.004160",
     "status": "completed"
    },
    "tags": []
   },
   "outputs": [],
   "source": []
  }
 ],
 "metadata": {
  "kernelspec": {
   "display_name": "Python 3",
   "language": "python",
   "name": "python3"
  },
  "language_info": {
   "codemirror_mode": {
    "name": "ipython",
    "version": 3
   },
   "file_extension": ".py",
   "mimetype": "text/x-python",
   "name": "python",
   "nbconvert_exporter": "python",
   "pygments_lexer": "ipython3",
   "version": "3.7.12"
  },
  "papermill": {
   "default_parameters": {},
   "duration": 24.67447,
   "end_time": "2022-03-06T15:19:55.099117",
   "environment_variables": {},
   "exception": null,
   "input_path": "__notebook__.ipynb",
   "output_path": "__notebook__.ipynb",
   "parameters": {},
   "start_time": "2022-03-06T15:19:30.424647",
   "version": "2.3.3"
  }
 },
 "nbformat": 4,
 "nbformat_minor": 5
}
